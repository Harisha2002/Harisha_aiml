{
  "nbformat": 4,
  "nbformat_minor": 0,
  "metadata": {
    "colab": {
      "provenance": [],
      "authorship_tag": "ABX9TyPJmPprTmRvMkgo+nRcktE0",
      "include_colab_link": true
    },
    "kernelspec": {
      "name": "python3",
      "display_name": "Python 3"
    },
    "language_info": {
      "name": "python"
    }
  },
  "cells": [
    {
      "cell_type": "markdown",
      "metadata": {
        "id": "view-in-github",
        "colab_type": "text"
      },
      "source": [
        "<a href=\"https://colab.research.google.com/github/Harisha2002/Harisha_aiml/blob/main/labsheet1.ipynb\" target=\"_parent\"><img src=\"https://colab.research.google.com/assets/colab-badge.svg\" alt=\"Open In Colab\"/></a>"
      ]
    },
    {
      "cell_type": "code",
      "execution_count": 1,
      "metadata": {
        "colab": {
          "base_uri": "https://localhost:8080/"
        },
        "id": "Q8qsO2Y4QQDR",
        "outputId": "abdf9132-eae3-4785-dcbf-2d0237d842c8"
      },
      "outputs": [
        {
          "output_type": "execute_result",
          "data": {
            "text/plain": [
              "7"
            ]
          },
          "metadata": {},
          "execution_count": 1
        }
      ],
      "source": [
        "days=['Mon','Tue','Wed','Thu','Fri','Sat','Sun']\n",
        "len(days)"
      ]
    },
    {
      "cell_type": "code",
      "source": [
        "numbers=[1,2,3,4,5,6,7,8,22,1090]\n",
        "max(numbers)"
      ],
      "metadata": {
        "colab": {
          "base_uri": "https://localhost:8080/"
        },
        "id": "uvFUtsaWSHir",
        "outputId": "183215ad-4242-439d-a8a3-77ab38fcf5ef"
      },
      "execution_count": 2,
      "outputs": [
        {
          "output_type": "execute_result",
          "data": {
            "text/plain": [
              "1090"
            ]
          },
          "metadata": {},
          "execution_count": 2
        }
      ]
    },
    {
      "cell_type": "code",
      "source": [
        "numbers=[1,2,3,4,5,6,7,8,22,190]\n",
        "sum(numbers)"
      ],
      "metadata": {
        "colab": {
          "base_uri": "https://localhost:8080/"
        },
        "id": "caGPjd13SL8i",
        "outputId": "5db311cd-7fa4-40f8-eb87-d4889a27981c"
      },
      "execution_count": 3,
      "outputs": [
        {
          "output_type": "execute_result",
          "data": {
            "text/plain": [
              "248"
            ]
          },
          "metadata": {},
          "execution_count": 3
        }
      ]
    },
    {
      "cell_type": "code",
      "source": [
        "\n",
        "import random\n",
        "numbers=[1,2,3,4,5,6,7,8,22,190]\n",
        "random.shuffle(numbers)\n",
        "print(numbers)"
      ],
      "metadata": {
        "colab": {
          "base_uri": "https://localhost:8080/"
        },
        "id": "ajaWRQqASQfj",
        "outputId": "73477590-70f3-4db6-8379-dd89013f0f95"
      },
      "execution_count": 4,
      "outputs": [
        {
          "output_type": "stream",
          "name": "stdout",
          "text": [
            "[7, 190, 3, 2, 1, 6, 4, 22, 5, 8]\n"
          ]
        }
      ]
    },
    {
      "cell_type": "code",
      "source": [
        "a=[1,2,3]\n",
        "b=[6,7,8]\n",
        "c=a+b\n",
        "print(c)"
      ],
      "metadata": {
        "colab": {
          "base_uri": "https://localhost:8080/"
        },
        "id": "cH8g9MmISU7j",
        "outputId": "dc75481b-f81f-4e2f-aced-a2893bced354"
      },
      "execution_count": 5,
      "outputs": [
        {
          "output_type": "stream",
          "name": "stdout",
          "text": [
            "[1, 2, 3, 6, 7, 8]\n"
          ]
        }
      ]
    },
    {
      "cell_type": "code",
      "source": [
        "b=[6,7,8]\n",
        "a=5*b\n",
        "print(a)\n",
        ""
      ],
      "metadata": {
        "colab": {
          "base_uri": "https://localhost:8080/"
        },
        "id": "UX44P49GSX9y",
        "outputId": "cdc7dfdc-2bde-46a5-a200-a3280d5701e2"
      },
      "execution_count": 6,
      "outputs": [
        {
          "output_type": "stream",
          "name": "stdout",
          "text": [
            "[6, 7, 8, 6, 7, 8, 6, 7, 8, 6, 7, 8, 6, 7, 8]\n"
          ]
        }
      ]
    },
    {
      "cell_type": "code",
      "source": [
        "\n",
        "days=['Mon','Tue','Wed','Thu','Fri','Sat','Sun']\n",
        "'Wed' in days\n",
        ""
      ],
      "metadata": {
        "colab": {
          "base_uri": "https://localhost:8080/"
        },
        "id": "nF98pyCySbwi",
        "outputId": "e7c5b5b1-77c7-4e46-a447-61f7f031c8af"
      },
      "execution_count": 7,
      "outputs": [
        {
          "output_type": "execute_result",
          "data": {
            "text/plain": [
              "True"
            ]
          },
          "metadata": {},
          "execution_count": 7
        }
      ]
    },
    {
      "cell_type": "code",
      "source": [
        "days=['Mon','Tue','Wed','Thu','Fri','Sat','Sun']\n",
        "'Wed' not in days"
      ],
      "metadata": {
        "colab": {
          "base_uri": "https://localhost:8080/"
        },
        "id": "o9_CUH9PSfKT",
        "outputId": "d431eb4b-6db9-4bd7-8a35-4e466c298892"
      },
      "execution_count": 8,
      "outputs": [
        {
          "output_type": "execute_result",
          "data": {
            "text/plain": [
              "False"
            ]
          },
          "metadata": {},
          "execution_count": 8
        }
      ]
    },
    {
      "cell_type": "code",
      "source": [
        "import random\n",
        "numbers = [1,2,3,4,5,6,7,8,22,190]\n",
        "random.sample(numbers, 3)"
      ],
      "metadata": {
        "colab": {
          "base_uri": "https://localhost:8080/"
        },
        "id": "ZE8xC8MNSjp7",
        "outputId": "fe52eb2b-b8f7-40d3-8ebd-ebcdbb78caec"
      },
      "execution_count": 9,
      "outputs": [
        {
          "output_type": "execute_result",
          "data": {
            "text/plain": [
              "[22, 7, 6]"
            ]
          },
          "metadata": {},
          "execution_count": 9
        }
      ]
    },
    {
      "cell_type": "code",
      "source": [
        "del[days[5]]\n",
        "days"
      ],
      "metadata": {
        "colab": {
          "base_uri": "https://localhost:8080/"
        },
        "id": "tuZ6yADwSmTz",
        "outputId": "1168e1d4-cf78-437c-85c4-ef9995d3bb43"
      },
      "execution_count": 10,
      "outputs": [
        {
          "output_type": "execute_result",
          "data": {
            "text/plain": [
              "['Mon', 'Tue', 'Wed', 'Thu', 'Fri', 'Sun']"
            ]
          },
          "metadata": {},
          "execution_count": 10
        }
      ]
    },
    {
      "cell_type": "code",
      "source": [
        "numbers = [1,2,3,4,5,6,7,8,22,190]\n",
        "print(numbers)\n",
        "numbers.append(100)\n",
        "print(numbers)"
      ],
      "metadata": {
        "colab": {
          "base_uri": "https://localhost:8080/"
        },
        "id": "QKu0jAAQSp9T",
        "outputId": "43de587a-c2a5-43a2-9786-ff645cb7546b"
      },
      "execution_count": 11,
      "outputs": [
        {
          "output_type": "stream",
          "name": "stdout",
          "text": [
            "[1, 2, 3, 4, 5, 6, 7, 8, 22, 190]\n",
            "[1, 2, 3, 4, 5, 6, 7, 8, 22, 190, 100]\n"
          ]
        }
      ]
    },
    {
      "cell_type": "code",
      "source": [
        "numbers = [1,2,3,4,5,6,7,8,22,190]\n",
        "print(numbers)\n",
        "numbers.clear()\n",
        "print(numbers)"
      ],
      "metadata": {
        "colab": {
          "base_uri": "https://localhost:8080/"
        },
        "id": "lNf_jz5QSsvT",
        "outputId": "94abe51d-d7bc-4610-f731-7cd5c48f1c8e"
      },
      "execution_count": 12,
      "outputs": [
        {
          "output_type": "stream",
          "name": "stdout",
          "text": [
            "[1, 2, 3, 4, 5, 6, 7, 8, 22, 190]\n",
            "[]\n"
          ]
        }
      ]
    },
    {
      "cell_type": "code",
      "source": [
        "numbers = [1,1,1,4,5,6,7,8,22,1]\n",
        "numbers.count(1)\n",
        ""
      ],
      "metadata": {
        "colab": {
          "base_uri": "https://localhost:8080/"
        },
        "id": "9MY1pXNESvtb",
        "outputId": "0d09a833-a0e7-4708-acac-7c513b76e67f"
      },
      "execution_count": 13,
      "outputs": [
        {
          "output_type": "execute_result",
          "data": {
            "text/plain": [
              "4"
            ]
          },
          "metadata": {},
          "execution_count": 13
        }
      ]
    },
    {
      "cell_type": "code",
      "source": [
        "list1 = [1,2,3,4,5,6,7,8,22,190]\n",
        "list2=list1.copy()\n",
        "print(list2)\n",
        "\n"
      ],
      "metadata": {
        "colab": {
          "base_uri": "https://localhost:8080/"
        },
        "id": "2bkIlMTfSyyD",
        "outputId": "e61e64f8-1a68-445b-cfb0-5203d6aad7ce"
      },
      "execution_count": 14,
      "outputs": [
        {
          "output_type": "stream",
          "name": "stdout",
          "text": [
            "[1, 2, 3, 4, 5, 6, 7, 8, 22, 190]\n"
          ]
        }
      ]
    },
    {
      "cell_type": "code",
      "source": [
        "a=(7,)\n",
        "a1=(7)\n",
        "print(type(a1))\n",
        "print(a)\n",
        "print(type(a))\n",
        ""
      ],
      "metadata": {
        "colab": {
          "base_uri": "https://localhost:8080/"
        },
        "id": "GUkR_qFtS2Jk",
        "outputId": "fafe21b3-98bf-45c9-ef6e-30fd96b0596b"
      },
      "execution_count": 15,
      "outputs": [
        {
          "output_type": "stream",
          "name": "stdout",
          "text": [
            "<class 'int'>\n",
            "(7,)\n",
            "<class 'tuple'>\n"
          ]
        }
      ]
    },
    {
      "cell_type": "code",
      "source": [
        "a=(1,2,3,4,5)\n",
        "print(a) #tuple can take multiple elements\n",
        ""
      ],
      "metadata": {
        "colab": {
          "base_uri": "https://localhost:8080/"
        },
        "id": "o8-0GgwfS6E-",
        "outputId": "90f23034-a6cc-4274-acf2-cd3c07dc784a"
      },
      "execution_count": 16,
      "outputs": [
        {
          "output_type": "stream",
          "name": "stdout",
          "text": [
            "(1, 2, 3, 4, 5)\n"
          ]
        }
      ]
    },
    {
      "cell_type": "code",
      "source": [
        "b=(1,2,3,4,5)\n",
        "print(b)"
      ],
      "metadata": {
        "colab": {
          "base_uri": "https://localhost:8080/"
        },
        "id": "wKsLasN6S9_T",
        "outputId": "5c7dfcf8-1bfc-4b45-9adc-e3bcee89bc85"
      },
      "execution_count": 17,
      "outputs": [
        {
          "output_type": "stream",
          "name": "stdout",
          "text": [
            "(1, 2, 3, 4, 5)\n"
          ]
        }
      ]
    },
    {
      "cell_type": "code",
      "source": [
        "mix=(1,2,'a',7.8,'b')\n",
        "print(mix)"
      ],
      "metadata": {
        "colab": {
          "base_uri": "https://localhost:8080/"
        },
        "id": "wyBAUzbTTA-S",
        "outputId": "9c013545-d365-456b-dffe-9973b4f33d64"
      },
      "execution_count": 18,
      "outputs": [
        {
          "output_type": "stream",
          "name": "stdout",
          "text": [
            "(1, 2, 'a', 7.8, 'b')\n"
          ]
        }
      ]
    },
    {
      "cell_type": "code",
      "source": [
        "mix=(1,2,'a',7.8,'b')\n",
        "print(mix[2])\n",
        ""
      ],
      "metadata": {
        "colab": {
          "base_uri": "https://localhost:8080/"
        },
        "id": "8ZcgUFu1TEAz",
        "outputId": "29eab134-8b94-4d39-b363-ddf424082e5a"
      },
      "execution_count": 19,
      "outputs": [
        {
          "output_type": "stream",
          "name": "stdout",
          "text": [
            "a\n"
          ]
        }
      ]
    },
    {
      "cell_type": "code",
      "source": [
        "a={\n",
        "    'name':\"vishwas\",\n",
        "    'age':20,\n",
        "    'gender':\"male\",\n",
        "    'country':\"india\"\n",
        "}\n",
        "\n",
        "a[\"three\"] = 3\n",
        "print(a)"
      ],
      "metadata": {
        "colab": {
          "base_uri": "https://localhost:8080/"
        },
        "id": "E6EqgwjxTG8j",
        "outputId": "5439ce31-3f5f-464b-a67b-1b154068201a"
      },
      "execution_count": 20,
      "outputs": [
        {
          "output_type": "stream",
          "name": "stdout",
          "text": [
            "{'name': 'vishwas', 'age': 20, 'gender': 'male', 'country': 'india', 'three': 3}\n"
          ]
        }
      ]
    },
    {
      "cell_type": "code",
      "source": [
        "\n",
        "a={1,2,3,4,5,6,8,2,2,2,2,2,2,2,2,2,2}\n",
        "print(a)\n",
        "print(type(a))\n",
        "\n",
        "a={1,2,3,4,5,1,2,3}\n",
        "print(a)\n"
      ],
      "metadata": {
        "colab": {
          "base_uri": "https://localhost:8080/"
        },
        "id": "C2LkN2vSTJys",
        "outputId": "c43865dc-2ba3-4562-ceff-8d9427a6a513"
      },
      "execution_count": 21,
      "outputs": [
        {
          "output_type": "stream",
          "name": "stdout",
          "text": [
            "{1, 2, 3, 4, 5, 6, 8}\n",
            "<class 'set'>\n",
            "{1, 2, 3, 4, 5}\n"
          ]
        }
      ]
    },
    {
      "cell_type": "code",
      "source": [
        "v=25//4\n",
        "print(v)\n",
        "\n"
      ],
      "metadata": {
        "colab": {
          "base_uri": "https://localhost:8080/"
        },
        "id": "Idxi-w9KTNKc",
        "outputId": "7e28214a-9ec2-4a49-b429-ba59ac75a52b"
      },
      "execution_count": 22,
      "outputs": [
        {
          "output_type": "stream",
          "name": "stdout",
          "text": [
            "6\n"
          ]
        }
      ]
    },
    {
      "cell_type": "code",
      "source": [
        "def add(a,b):\n",
        "    return a-b\n",
        "\n",
        "add(2,3)\n"
      ],
      "metadata": {
        "colab": {
          "base_uri": "https://localhost:8080/"
        },
        "id": "W6R2Tp8fTQ5m",
        "outputId": "10a5613d-252b-40a3-f1d9-5981d32ac3d0"
      },
      "execution_count": 23,
      "outputs": [
        {
          "output_type": "execute_result",
          "data": {
            "text/plain": [
              "-1"
            ]
          },
          "metadata": {},
          "execution_count": 23
        }
      ]
    }
  ]
}